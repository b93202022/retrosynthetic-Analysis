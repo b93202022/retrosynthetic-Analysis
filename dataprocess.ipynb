{
 "cells": [
  {
   "cell_type": "code",
   "execution_count": null,
   "metadata": {},
   "outputs": [
    {
     "name": "stderr",
     "output_type": "stream",
     "text": [
      "RDKit WARNING: [17:34:55] Enabling RDKit 2019.09.3 jupyter extensions\n",
      "Loading base compounds: 23313838it [00:16, 1448429.20it/s]\n"
     ]
    },
    {
     "name": "stdout",
     "output_type": "stream",
     "text": [
      "16.099908113479614 s\n",
      "Base compounds: 23313838\n"
     ]
    },
    {
     "name": "stderr",
     "output_type": "stream",
     "text": [
      "loading additional base compounds:  58%|█████▊    | 412/705 [18:21:06<61:07:55, 751.11s/it]  "
     ]
    }
   ],
   "source": [
    "from tqdm import tqdm\n",
    "import time\n",
    "import json\n",
    "import pickle\n",
    "import glob\n",
    "from rdkit import Chem\n",
    "\n",
    "starting_mols = set()\n",
    "\n",
    "#with open('data/emolecules.smi', 'r') as f:\n",
    "#    for line in tqdm(f, desc='Loading base compounds'):\n",
    "#        smi = line.strip()\n",
    "###        smi = molvs.standardize_smiles(smi)\n",
    "#        smi = Chem.MolFromSmiles(smi)\n",
    "#        if not smi: continue\n",
    "#        smi = Chem.MolToSmiles(smi,allHsExplicit=0,allBondsExplicit=0)\n",
    "#        starting_mols.add(smi)\n",
    "#with open('data/emoleculestandard.dat', 'w') as f:\n",
    "#    f.write('\\n'.join(starting_mols))  \n",
    "\n",
    "start=time.time()\n",
    "with open('data/emoleculestandard.dat', 'r') as f:\n",
    "    for line in tqdm(f, desc='Loading base compounds'):\n",
    "##    for line in f:\n",
    "        smi = line.strip()\n",
    "#        smi = molvs.standardize_smiles(smi)\n",
    "#        smi = Chem.MolFromSmiles(smi)\n",
    "#        if not smi: continue\n",
    "#        smi = Chem.MolToSmiles(smi,allHsExplicit=0,allBondsExplicit=0)\n",
    "        starting_mols.add(smi)\n",
    "print(time.time()-start, 's')        \n",
    "print('Base compounds:', len(starting_mols))\n",
    "\n",
    "zinclist= glob.glob('./data/zinc/*.smi')\n",
    "\n",
    "for file in tqdm(zinclist, desc= 'loading additional base compounds'):\n",
    "    with open(file, 'r') as f:\n",
    "        for line in f:\n",
    "            smi = line.strip().split()[0]\n",
    "            if 'smiles' == smi: continue\n",
    "            smi = Chem.MolFromSmiles(smi)\n",
    "            if not smi: continue\n",
    "            smi = Chem.MolToSmiles(smi,allHsExplicit=0,allBondsExplicit=0)\n",
    "                \n",
    "            starting_mols.add(smi)\n",
    "\n",
    "with open('data/emoleculestandard.pickle', 'wb') as f:\n",
    "    pickle.dump(starting_mols, f)\n",
    "    \n",
    "print('Base compounds:', len(starting_mols))"
   ]
  },
  {
   "cell_type": "code",
   "execution_count": 1,
   "metadata": {},
   "outputs": [
    {
     "name": "stderr",
     "output_type": "stream",
     "text": [
      "RDKit WARNING: [09:57:39] Enabling RDKit 2019.09.3 jupyter extensions\n",
      "Loading base compounds: 31277816it [1:56:54, 4459.23it/s]\n"
     ]
    }
   ],
   "source": [
    "from tqdm import tqdm\n",
    "import time\n",
    "import json\n",
    "import pickle\n",
    "import glob\n",
    "from rdkit import Chem\n",
    "\n",
    "starting_mols = set()\n",
    "\n",
    "with open('data/emolecules.smi', 'r') as f:\n",
    "    for line in tqdm(f, desc='Loading base compounds'):\n",
    "        smi = line.strip()\n",
    "##        smi = molvs.standardize_smiles(smi)\n",
    "        smi = Chem.MolFromSmiles(smi)\n",
    "        if not smi: continue\n",
    "        smi = Chem.MolToSmiles(smi,allHsExplicit=0,allBondsExplicit=0)\n",
    "        starting_mols.add(smi)\n",
    "with open('data/emoleculestandard.dat', 'w') as f:\n",
    "    f.write('\\n'.join(starting_mols))  "
   ]
  },
  {
   "cell_type": "code",
   "execution_count": 5,
   "metadata": {},
   "outputs": [
    {
     "name": "stderr",
     "output_type": "stream",
     "text": [
      "Loading base compounds: 26671774it [1:45:19, 4220.46it/s]\n"
     ]
    }
   ],
   "source": [
    "from tqdm import tqdm\n",
    "import time\n",
    "import json\n",
    "import pickle\n",
    "import glob\n",
    "from rdkit import Chem\n",
    "\n",
    "starting_mols = set()\n",
    "\n",
    "with open('data/emol0701.smi', 'r') as f:\n",
    "    for line in tqdm(f, desc='Loading base compounds'):\n",
    "        smii = line.strip().split()[0]\n",
    "        #smii = line.strip()\n",
    "#        print(smii)\n",
    "        if 'smiles' in smii: continue\n",
    "        smi = Chem.MolFromSmiles(smii)\n",
    "        if not smi: continue\n",
    "        smi = Chem.MolToSmiles(smi,allHsExplicit=0,allBondsExplicit=0,isomericSmiles=0 )\n",
    "        if smi == 'CN1[C@H]2CC[C@@H]1[C@@H](C(=O)O)[C@@H](c1ccc(Cl)cc1)C2':\n",
    "            print(smi)\n",
    "            print(smii)\n",
    "        starting_mols.add(smi)\n",
    "#        print('smi'+smi)\n",
    "with open('data/emoleculestandard0701-noiso.dat', 'w') as f:\n",
    "    f.write('\\n'.join(starting_mols))  "
   ]
  },
  {
   "cell_type": "code",
   "execution_count": 1,
   "metadata": {},
   "outputs": [
    {
     "name": "stderr",
     "output_type": "stream",
     "text": [
      "RDKit WARNING: [14:43:31] Enabling RDKit 2019.09.3 jupyter extensions\n",
      "Loading agent base compounds: 1266it [00:00, 1270332.26it/s]\n",
      "loading additional base compounds:   5%|▌         | 68/1266 [00:05<01:24, 14.14it/s]"
     ]
    },
    {
     "name": "stdout",
     "output_type": "stream",
     "text": [
      "error: [Errno 2] No such file or directory: './data/zinc/HAAC.smi'\n"
     ]
    },
    {
     "name": "stderr",
     "output_type": "stream",
     "text": [
      "loading additional base compounds:  10%|▉         | 126/1266 [00:17<09:43,  1.96it/s]"
     ]
    },
    {
     "name": "stdout",
     "output_type": "stream",
     "text": [
      "error: [Errno 2] No such file or directory: './data/zinc/CBBC.smi'\n"
     ]
    },
    {
     "name": "stderr",
     "output_type": "stream",
     "text": [
      "loading additional base compounds:  12%|█▏        | 153/1266 [00:26<09:23,  1.97it/s]"
     ]
    },
    {
     "name": "stdout",
     "output_type": "stream",
     "text": [
      "error: [Errno 2] No such file or directory: './data/zinc/FBCC.smi'\n"
     ]
    },
    {
     "name": "stderr",
     "output_type": "stream",
     "text": [
      "loading additional base compounds:  29%|██▉       | 366/1266 [05:26<21:41,  1.45s/it]  "
     ]
    },
    {
     "name": "stdout",
     "output_type": "stream",
     "text": [
      "error: [Errno 2] No such file or directory: './data/zinc/FDEC.smi'\n"
     ]
    },
    {
     "name": "stderr",
     "output_type": "stream",
     "text": [
      "loading additional base compounds:  30%|██▉       | 375/1266 [05:52<18:22,  1.24s/it]  "
     ]
    },
    {
     "name": "stdout",
     "output_type": "stream",
     "text": [
      "error: [Errno 2] No such file or directory: './data/zinc/ICCC.smi'\n"
     ]
    },
    {
     "name": "stderr",
     "output_type": "stream",
     "text": [
      "loading additional base compounds:  36%|███▋      | 460/1266 [08:09<30:35,  2.28s/it]  "
     ]
    },
    {
     "name": "stdout",
     "output_type": "stream",
     "text": [
      "error: [Errno 2] No such file or directory: './data/zinc/HDBC.smi'\n"
     ]
    },
    {
     "name": "stderr",
     "output_type": "stream",
     "text": [
      "loading additional base compounds:  55%|█████▍    | 696/1266 [15:48<09:27,  1.00it/s]  "
     ]
    },
    {
     "name": "stdout",
     "output_type": "stream",
     "text": [
      "error: [Errno 2] No such file or directory: './data/zinc/KFCC.smi'\n"
     ]
    },
    {
     "name": "stderr",
     "output_type": "stream",
     "text": [
      "loading additional base compounds:  62%|██████▏   | 791/1266 [20:50<31:28,  3.98s/it]  "
     ]
    },
    {
     "name": "stdout",
     "output_type": "stream",
     "text": [
      "error: [Errno 2] No such file or directory: './data/zinc/JGBC.smi'\n"
     ]
    },
    {
     "name": "stderr",
     "output_type": "stream",
     "text": [
      "loading additional base compounds:  63%|██████▎   | 796/1266 [20:56<16:52,  2.15s/it]"
     ]
    },
    {
     "name": "stdout",
     "output_type": "stream",
     "text": [
      "error: [Errno 2] No such file or directory: './data/zinc/JGEC.smi'\n"
     ]
    },
    {
     "name": "stderr",
     "output_type": "stream",
     "text": [
      "loading additional base compounds:  71%|███████   | 896/1266 [25:37<07:16,  1.18s/it]"
     ]
    },
    {
     "name": "stdout",
     "output_type": "stream",
     "text": [
      "error: [Errno 2] No such file or directory: './data/zinc/KGCC.smi'\n"
     ]
    },
    {
     "name": "stderr",
     "output_type": "stream",
     "text": [
      "loading additional base compounds:  78%|███████▊  | 989/1266 [28:36<12:57,  2.81s/it]"
     ]
    },
    {
     "name": "stdout",
     "output_type": "stream",
     "text": [
      "error: [Errno 2] No such file or directory: './data/zinc/JHEC.smi'\n"
     ]
    },
    {
     "name": "stderr",
     "output_type": "stream",
     "text": [
      "loading additional base compounds:  85%|████████▍ | 1071/1266 [31:01<14:48,  4.56s/it]"
     ]
    },
    {
     "name": "stdout",
     "output_type": "stream",
     "text": [
      "error: [Errno 2] No such file or directory: './data/zinc/IIBC.smi'\n"
     ]
    },
    {
     "name": "stderr",
     "output_type": "stream",
     "text": [
      "loading additional base compounds:  85%|████████▍ | 1074/1266 [31:04<08:44,  2.73s/it]"
     ]
    },
    {
     "name": "stdout",
     "output_type": "stream",
     "text": [
      "error: [Errno 2] No such file or directory: './data/zinc/IICC.smi'\n"
     ]
    },
    {
     "name": "stderr",
     "output_type": "stream",
     "text": [
      "loading additional base compounds:  87%|████████▋ | 1096/1266 [32:43<11:17,  3.98s/it]"
     ]
    },
    {
     "name": "stdout",
     "output_type": "stream",
     "text": [
      "error: [Errno 2] No such file or directory: './data/zinc/KICC.smi'\n"
     ]
    },
    {
     "name": "stderr",
     "output_type": "stream",
     "text": [
      "loading additional base compounds:  94%|█████████▍| 1196/1266 [36:37<05:35,  4.80s/it]"
     ]
    },
    {
     "name": "stdout",
     "output_type": "stream",
     "text": [
      "error: [Errno 2] No such file or directory: './data/zinc/KJCC.smi'\n"
     ]
    },
    {
     "name": "stderr",
     "output_type": "stream",
     "text": [
      "loading additional base compounds:  95%|█████████▌| 1208/1266 [37:00<01:24,  1.46s/it]"
     ]
    },
    {
     "name": "stdout",
     "output_type": "stream",
     "text": [
      "error: [Errno 2] No such file or directory: './data/zinc/FKCC.smi'\n"
     ]
    },
    {
     "name": "stderr",
     "output_type": "stream",
     "text": [
      "loading additional base compounds: 100%|██████████| 1266/1266 [47:22<00:00,  2.25s/it]\n"
     ]
    },
    {
     "name": "stdout",
     "output_type": "stream",
     "text": [
      "Base compounds: 6477762\n"
     ]
    }
   ],
   "source": [
    "from tqdm import tqdm\n",
    "import time\n",
    "import json\n",
    "import pickle\n",
    "import glob\n",
    "from rdkit import Chem\n",
    "\n",
    "starting_mols = set()\n",
    "zincdir =[]\n",
    "zinclist = []\n",
    "#with open('data/emolecules.smi', 'r') as f:\n",
    "#    for line in tqdm(f, desc='Loading base compounds'):\n",
    "#        smi = line.strip()\n",
    "###        smi = molvs.standardize_smiles(smi)\n",
    "#        smi = Chem.MolFromSmiles(smi)\n",
    "#        if not smi: continue\n",
    "#        smi = Chem.MolToSmiles(smi,allHsExplicit=0,allBondsExplicit=0)\n",
    "#        starting_mols.add(smi)\n",
    "#with open('data/emoleculestandard.dat', 'w') as f:\n",
    "#    f.write('\\n'.join(starting_mols))  \n",
    "\n",
    "\n",
    "with open('data/zinc/ZINC-downloader-2D-smi-agent.txt', 'r') as f:\n",
    "    for line in tqdm(f, desc='Loading agent base compounds'):\n",
    "##    for line in f:\n",
    "        smi = line.strip()[-8:]\n",
    "        zincdir.append(smi)\n",
    "        \n",
    "\n",
    "\n",
    "for smi in zincdir:\n",
    "    zinclist.append('./data/zinc/'+smi)\n",
    "\n",
    "\n",
    "for file in tqdm(zinclist, desc= 'loading additional base compounds'):\n",
    "    try:\n",
    "        with open(file, 'r') as f:\n",
    "            for line in f:\n",
    "                smi = line.strip().split()[0]\n",
    "                if 'smiles' == smi: continue\n",
    "                smi = Chem.MolFromSmiles(smi)\n",
    "                if not smi: continue\n",
    "                smi = Chem.MolToSmiles(smi,allHsExplicit=0,allBondsExplicit=0,isomericSmiles=0)\n",
    "                \n",
    "                starting_mols.add(smi)\n",
    "    except Exception as e:\n",
    "        print('error: {}'.format(e))\n",
    "\n",
    "with open('data/zincagent-noiso.dat', 'w') as f:\n",
    "    f.write('\\n'.join(starting_mols)) \n",
    "    \n",
    "print('Base compounds:', len(starting_mols))"
   ]
  },
  {
   "cell_type": "code",
   "execution_count": 9,
   "metadata": {},
   "outputs": [
    {
     "data": {
      "text/plain": [
       "1266"
      ]
     },
     "execution_count": 9,
     "metadata": {},
     "output_type": "execute_result"
    }
   ],
   "source": [
    "zincdir =[]\n",
    "zinclist=[]\n",
    "with open('data/zinc/ZINC-downloader-2D-smi-agent.txt', 'r') as f:\n",
    "#    for line in tqdm(f, desc='Loading agent base compounds'):\n",
    "    for line in f:\n",
    "        smi = line.strip()[-8:]\n",
    "        zincdir.append(smi)\n",
    "len(zincdir)\n",
    "for smi in zincdir:\n",
    "    zinclist.append('./data/zinc/'+smi)\n",
    "len(zinclist)\n",
    "#zinclist"
   ]
  },
  {
   "cell_type": "code",
   "execution_count": 4,
   "metadata": {},
   "outputs": [
    {
     "name": "stderr",
     "output_type": "stream",
     "text": [
      "Loading base compounds: 0it [00:00, ?it/s]"
     ]
    },
    {
     "name": "stdout",
     "output_type": "stream",
     "text": [
      "[B]1234[B]567[B]118[B]229[B]33%10[B]454[B]656[B]711[B]822[C]933[B]%1045[C]6123\n",
      "C12[Fe]3456789%10C(C13C(=O)O)C4C25.C61C7C8C9C%101\n",
      "smiO=C(O)C12C3C4C5C1[Fe]45321678C2C1C6C7C28\n"
     ]
    },
    {
     "name": "stderr",
     "output_type": "stream",
     "text": [
      "Loading base compounds: 2it [00:00, 1012.26it/s]\n"
     ]
    }
   ],
   "source": [
    "from tqdm import tqdm\n",
    "import time\n",
    "import json\n",
    "import pickle\n",
    "import glob\n",
    "from rdkit import Chem\n",
    "\n",
    "starting_mols = set()\n",
    "\n",
    "with open('data/test.smi', 'r') as f:\n",
    "    for line in tqdm(f, desc='Loading base compounds'):\n",
    "        smii = line.strip().split()[0]\n",
    "        #smii = line.strip()\n",
    "        print(smii)\n",
    "#        if 'smiles' in smii: continue\n",
    "        smi = Chem.MolFromSmiles(smii)\n",
    "        if not smi: continue\n",
    "        smi = Chem.MolToSmiles(smi,allHsExplicit=0,allBondsExplicit=0)\n",
    "        if smi == 'CN1[C@H]2CC[C@@H]1[C@@H](C(=O)O)[C@@H](c1ccc(Cl)cc1)C2':\n",
    "            print(smi)\n",
    "            print(smii)\n",
    "        starting_mols.add(smi)\n",
    "        print('smi'+smi)\n",
    "#with open('data/emoleculestandard0701.dat', 'w') as f:\n",
    "#    f.write('\\n'.join(starting_mols))  "
   ]
  },
  {
   "cell_type": "code",
   "execution_count": 1,
   "metadata": {},
   "outputs": [
    {
     "name": "stdout",
     "output_type": "stream",
     "text": [
      "Loading data...\n"
     ]
    },
    {
     "name": "stderr",
     "output_type": "stream",
     "text": [
      "inscopedata: 1534410it [00:02, 521709.14it/s]\n",
      "inscopedata: 1789651it [00:04, 423417.48it/s]\n",
      "inscopedata: 23288276it [00:49, 474519.72it/s]\n",
      "inscopedata: 21700039it [00:45, 475764.79it/s]\n"
     ]
    },
    {
     "name": "stdout",
     "output_type": "stream",
     "text": [
      "total samples: 31313570\n",
      "total samples: 31313570\n"
     ]
    }
   ],
   "source": [
    "    from tqdm import tqdm, trange\n",
    "    import random\n",
    "    import pickle\n",
    "    \n",
    "    seed = 0\n",
    "    #spilt = 0.1\n",
    "    spilt = 0\n",
    "    \n",
    "    print('Loading data...')\n",
    "    tem_simp = set()\n",
    "    prods = []\n",
    "    reacs = []\n",
    "    labels = []\n",
    "    with open('data/inscopedata.dat', 'r') as f:\n",
    "        for l in tqdm(f, desc='inscopedata'):\n",
    "            tem_simp.add(l.strip())\n",
    "\n",
    "    with open('data/inscopedata2.dat', 'r') as f:\n",
    "        for l in tqdm(f, desc='inscopedata'):\n",
    "            tem_simp.add(l.strip()) \n",
    "    #print('check data:', tem_simp)\n",
    "\n",
    "    with open('data/inscopedata4all.dat', 'r') as f:\n",
    "        for l in tqdm(f, desc='inscopedata'):\n",
    "            tem_simp.add(l.strip()) \n",
    "    \n",
    "    with open('data/inscopedata4.dat', 'r') as f:\n",
    "        for l in tqdm(f, desc='inscopedata'):\n",
    "            tem_simp.add(l.strip()) \n",
    "        \n",
    "    for item in tem_simp:\n",
    "        prod,reac,label = item.split('\\t')\n",
    "        prods.append(prod)\n",
    "        reacs.append(reac)\n",
    "        #labels.append(label)\n",
    "        labels.append(float(label))\n",
    "    #print('check samples:', labels[1000000:1000010])\n",
    "    print('total samples:', len(tem_simp))    \n",
    "    # Shuffle\n",
    "    xyz = list(zip(prods, reacs, labels))\n",
    "    xyz.sort()\n",
    "    random.seed(seed)\n",
    "    random.shuffle(xyz)\n",
    "   \n",
    "    \n",
    "    #with open('data/inscopedatatest.dat', 'w') as f:\n",
    "    #    f.write('\\n'.join(['\\t'.join(rxn_prod) for rxn_prod in xyz]))\n",
    "    \n",
    "    \n",
    "    #'''\n",
    "    prods, reacs, labels = zip(*xyz)    \n",
    "    data_spilt= round(len(prods)*(1-spilt))\n",
    "    x_train = prods[:data_spilt]\n",
    "    x_test = prods[data_spilt:]\n",
    "    y_train = reacs[:data_spilt]\n",
    "    y_test = reacs[data_spilt:]\n",
    "    z_train = labels[:data_spilt]\n",
    "    z_test = labels[data_spilt:]\n",
    "    \n",
    "    with open('data/x_trainall2.pickle', 'wb') as f:\n",
    "        pickle.dump(x_train, f)\n",
    "    with open('data/x_testall2.pickle', 'wb') as f:\n",
    "        pickle.dump(x_test, f)\n",
    "    with open('data/y_trainall2.pickle', 'wb') as f:\n",
    "        pickle.dump(y_train, f)\n",
    "    with open('data/y_testall2.pickle', 'wb') as f:\n",
    "        pickle.dump(y_test, f) \n",
    "    with open('data/z_trainall2.pickle', 'wb') as f:\n",
    "        pickle.dump(z_train, f)\n",
    "    with open('data/z_testall2.pickle', 'wb') as f:\n",
    "        pickle.dump(z_test, f)   \n",
    "    #'''    \n",
    "    print('total samples:', len(tem_simp))\n"
   ]
  },
  {
   "cell_type": "code",
   "execution_count": 1,
   "metadata": {},
   "outputs": [
    {
     "name": "stderr",
     "output_type": "stream",
     "text": [
      "products: 3143138it [00:09, 329348.60it/s]\n"
     ]
    },
    {
     "name": "stdout",
     "output_type": "stream",
     "text": [
      "Expansion rules: 176756\n",
      "total Expansion rules examples: 3143138\n"
     ]
    }
   ],
   "source": [
    "from collections import defaultdict\n",
    "from tqdm import tqdm\n",
    "Tlexp=0\n",
    "tem_simp=[]\n",
    "with open('data/templates_expansion1.dat', 'r') as f:\n",
    "    for l in tqdm(f, desc='products'):\n",
    "        tem_simp.append(l.strip().split('\\t'))\n",
    "\n",
    "templates = defaultdict(int)\n",
    "for rule, _, __ in tem_simp:\n",
    "    templates[rule] += 1\n",
    "        \n",
    "expansion = [rule for rule, count in templates.items() if count >= 1]\n",
    "print('Expansion rules:', len(expansion))\n",
    "for rule, count in templates.items():\n",
    "    if count >= 1:\n",
    "        Tlexp += count    \n",
    "print('total Expansion rules examples:', Tlexp)\n",
    "with open('data/expansion_expansion1.dat', 'w') as f:\n",
    "    f.write('\\n'.join(expansion))\n"
   ]
  },
  {
   "cell_type": "code",
   "execution_count": 1,
   "metadata": {},
   "outputs": [
    {
     "name": "stdout",
     "output_type": "stream",
     "text": [
      "Loading data...\n"
     ]
    },
    {
     "name": "stderr",
     "output_type": "stream",
     "text": [
      "inscopedata: 1533232it [00:03, 493527.85it/s]\n"
     ]
    },
    {
     "name": "stdout",
     "output_type": "stream",
     "text": [
      "total pos samples: 0\n",
      "total neg samples: 0\n",
      "total samples: 1533232\n",
      "total val samples: 0\n",
      "total train samples: 1533232\n",
      "total train samples: 1533232\n",
      "total val samples: 0\n",
      "total val samples: 0\n"
     ]
    }
   ],
   "source": [
    "    from tqdm import tqdm, trange\n",
    "    import random\n",
    "    import pickle\n",
    "    \n",
    "    seed = 0\n",
    "    #spilt = 0.1\n",
    "    spilt = 0\n",
    "    \n",
    "    print('Loading data...')\n",
    "    tem_simp = set()\n",
    "    tem_val_pos = []\n",
    "    tem_val_neg = []\n",
    "    tem_val = []\n",
    "    \n",
    "    \n",
    "    prods = []\n",
    "    reacs = []\n",
    "    labels = []\n",
    "    prodsv = []\n",
    "    reacsv = []\n",
    "    labelsv = []    \n",
    "    countp =-1\n",
    "    countn =-1\n",
    "    #'''\n",
    "    with open('data/inscopedata_rev.dat', 'r') as f:\n",
    "        for l in tqdm(f, desc='inscopedata'):\n",
    "            \n",
    "            tem_simp.add(l.strip())\n",
    "            if l.strip().split('\\t')[2] =='1':\n",
    "                tem_val_pos.append(l.strip())\n",
    "            if l.strip().split('\\t')[2] =='0':\n",
    "                tem_val_neg.append(l.strip()) \n",
    "    for l in tem_val_pos:\n",
    "        countp +=1\n",
    "        if countp%10 ==0:\n",
    "            tem_val.append(l)\n",
    "    for l in tem_val_neg:\n",
    "        countn +=1\n",
    "        if countn%2 ==1:\n",
    "            tem_val.append(l)    \n",
    "    #'''\n",
    "    with open('data/inscopedata_rev_noise.dat', 'r') as f:\n",
    "        for l in tqdm(f, desc='inscopedata'):\n",
    "            tem_simp.add(l.strip()) \n",
    "    #print('check data:', tem_simp)\n",
    "    \n",
    "    #with open('data/inscopedata4all.dat', 'r') as f:\n",
    "    #    for l in tqdm(f, desc='inscopedata'):\n",
    "    #        tem_simp.add(l.strip()) \n",
    "    \n",
    "    #with open('data/inscopedata4.dat', 'r') as f:\n",
    "    #    for l in tqdm(f, desc='inscopedata'):\n",
    "    #        tem_simp.add(l.strip()) \n",
    "    print('total pos samples:', len(tem_val_pos))\n",
    "    print('total neg samples:', len(tem_val_neg))\n",
    "    print('total samples:', len(tem_simp))\n",
    "    print('total val samples:', len(tem_val))\n",
    "    tem_simp.difference_update(tem_val)\n",
    "    print('total train samples:', len(tem_simp))\n",
    "    \n",
    "    for item in tem_simp:\n",
    "        prod,reac,label = item.split('\\t')\n",
    "        prods.append(prod)\n",
    "        reacs.append(reac)\n",
    "        #labels.append(label)\n",
    "        labels.append(float(label))\n",
    "    #print('check samples:', labels[1000000:1000010])\n",
    "    print('total train samples:', len(prods))    \n",
    "    # Shuffle\n",
    "    xyz = list(zip(prods, reacs, labels))\n",
    "    xyz.sort()\n",
    "    random.seed(seed+1)\n",
    "    random.shuffle(xyz)\n",
    "   \n",
    "    \n",
    "    #with open('data/inscopedatatest.dat', 'w') as f:\n",
    "    #    f.write('\\n'.join(['\\t'.join(rxn_prod) for rxn_prod in xyz]))\n",
    "    \n",
    "    \n",
    "    #'''\n",
    "    prods, reacs, labels = zip(*xyz)\n",
    "    \n",
    "    for item in tem_val:\n",
    "        prod,reac,label = item.split('\\t')\n",
    "        prodsv.append(prod)\n",
    "        reacsv.append(reac)\n",
    "        #labels.append(label)\n",
    "        labelsv.append(float(label))\n",
    "    #print('check samples:', labels[1000000:1000010])\n",
    "    print('total val samples:', len(prodsv))    \n",
    "    # Shuffle\n",
    "    xyz = list(zip(prodsv, reacsv, labelsv))\n",
    "    xyz.sort()\n",
    "    #random.seed(seed)\n",
    "    random.shuffle(xyz)\n",
    "   \n",
    "    \n",
    "    #with open('data/inscopedatatest.dat', 'w') as f:\n",
    "    #    f.write('\\n'.join(['\\t'.join(rxn_prod) for rxn_prod in xyz]))\n",
    "    \n",
    "    \n",
    "    #'''\n",
    "    prodsv, reacsv, labelsv = zip(*xyz)\n",
    "    \n",
    "    #data_spilt= round(len(prods)*(1-spilt))\n",
    "    x_train = prods\n",
    "    x_test = prodsv\n",
    "    y_train = reacs\n",
    "    y_test = reacsv\n",
    "    z_train = labels\n",
    "    z_test = labelsv\n",
    "    \n",
    "    with open('data/x_train0_rev-n.pickle', 'wb') as f:\n",
    "        pickle.dump(x_train, f)\n",
    "    with open('data/x_test0_rev-n.pickle', 'wb') as f:\n",
    "        pickle.dump(x_test, f)\n",
    "    with open('data/y_train0_rev-n.pickle', 'wb') as f:\n",
    "        pickle.dump(y_train, f)\n",
    "    with open('data/y_test0_rev-n.pickle', 'wb') as f:\n",
    "        pickle.dump(y_test, f) \n",
    "    with open('data/z_train0_rev-n.pickle', 'wb') as f:\n",
    "        pickle.dump(z_train, f)\n",
    "    with open('data/z_test0_rev-n.pickle', 'wb') as f:\n",
    "        pickle.dump(z_test, f)   \n",
    "    #'''    \n",
    "    print('total val samples:', len(xyz))"
   ]
  },
  {
   "cell_type": "code",
   "execution_count": 1,
   "metadata": {},
   "outputs": [
    {
     "name": "stderr",
     "output_type": "stream",
     "text": [
      "RDKit WARNING: [17:31:32] Enabling RDKit 2019.09.3 jupyter extensions\n",
      "inscopedata: 1157756it [00:34, 34032.78it/s]\n"
     ]
    },
    {
     "name": "stdout",
     "output_type": "stream",
     "text": [
      "63435\n"
     ]
    }
   ],
   "source": [
    "    from tqdm import tqdm\n",
    "    from collections import defaultdict\n",
    "    from rdkit import Chem\n",
    "    from rdkit.Chem import AllChem\n",
    "    import pickle\n",
    "\n",
    "    def smi_list_from_str(inchis):\n",
    "        '''string separated by ++ to list of RDKit molecules'''\n",
    "        return [inchi.strip() for inchi in inchis.split('++')]    \n",
    "    \n",
    "    labels = set()\n",
    "    templates = defaultdict(int)\n",
    "    ele = ['-]','-2]','+]','+2]','+3]','+4]','+5]']\n",
    "    with open('data/templates_expansion3.dat', 'r') as f:\n",
    "        for l in tqdm(f, desc='inscopedata'):\n",
    "            reactants=smi_list_from_str(l.strip().split('\\t')[2])\n",
    "            for thing in reactants:\n",
    "                if any(element in thing for element in ele):\n",
    "                    labels.add(Chem.MolToSmiles(Chem.MolFromSmiles(thing),allHsExplicit=0,allBondsExplicit=0, isomericSmiles=1))\n",
    "    with open('data/electric_charge.dat', 'w') as f:\n",
    "        f.write('\\n'.join(labels))     \n",
    "    \n",
    "    print(len(labels))\n",
    "            "
   ]
  },
  {
   "cell_type": "code",
   "execution_count": 1,
   "metadata": {},
   "outputs": [
    {
     "name": "stderr",
     "output_type": "stream",
     "text": [
      "inscopedata: 1534410it [00:02, 518020.54it/s]\n"
     ]
    },
    {
     "name": "stdout",
     "output_type": "stream",
     "text": [
      "labels: 1534410\n",
      "errors: 1178\n",
      "correct: 1533232\n",
      "labels: 1534410\n"
     ]
    }
   ],
   "source": [
    "    from tqdm import tqdm\n",
    "    from collections import defaultdict\n",
    "    ori = []\n",
    "    labels = set()\n",
    "    templates = defaultdict(int)\n",
    "   \n",
    "    with open('data/inscopedata.dat', 'r') as f:\n",
    "        for l in tqdm(f, desc='inscopedata'):\n",
    "            labels.add(l.strip())\n",
    "    for ll in labels:\n",
    "        prod,reac,label = ll.split('\\t')\n",
    "        templates[prod+'\\t'+reac] += 1  \n",
    "        \n",
    "\n",
    "\n",
    "    for rule, count in templates.items():\n",
    "        if count >= 2:\n",
    "            #print(rule)\n",
    "            ori.append(rule) \n",
    "    print('labels:',len(labels))        \n",
    "    print('errors:',len(ori))\n",
    "    correct = labels.copy()\n",
    "    for ll in labels:\n",
    "        prod,reac,label = ll.split('\\t')\n",
    "        if prod+'\\t'+reac in ori and label == '0':\n",
    "            correct.remove(ll)\n",
    "            \n",
    "    with open('data/inscopedata_rev.dat', 'w') as f:\n",
    "        f.write('\\n'.join(correct))\n",
    "\n",
    "            \n",
    "    print('correct:',len(correct))\n",
    "    print('labels:',len(labels))"
   ]
  },
  {
   "cell_type": "code",
   "execution_count": null,
   "metadata": {},
   "outputs": [],
   "source": []
  }
 ],
 "metadata": {
  "kernelspec": {
   "display_name": "Python 3",
   "language": "python",
   "name": "python3"
  },
  "language_info": {
   "codemirror_mode": {
    "name": "ipython",
    "version": 3
   },
   "file_extension": ".py",
   "mimetype": "text/x-python",
   "name": "python",
   "nbconvert_exporter": "python",
   "pygments_lexer": "ipython3",
   "version": "3.7.3"
  }
 },
 "nbformat": 4,
 "nbformat_minor": 4
}
