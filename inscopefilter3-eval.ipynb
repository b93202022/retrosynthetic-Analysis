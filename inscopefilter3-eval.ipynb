{
 "cells": [
  {
   "cell_type": "code",
   "execution_count": 1,
   "metadata": {},
   "outputs": [
    {
     "name": "stderr",
     "output_type": "stream",
     "text": [
      "RDKit WARNING: [19:18:34] Enabling RDKit 2019.09.3 jupyter extensions\n",
      "Using TensorFlow backend.\n"
     ]
    },
    {
     "name": "stdout",
     "output_type": "stream",
     "text": [
      "WARNING:tensorflow:From C:\\Users\\i0947\\AppData\\Local\\Continuum\\anaconda3\\lib\\site-packages\\tensorflow\\python\\ops\\resource_variable_ops.py:435: colocate_with (from tensorflow.python.framework.ops) is deprecated and will be removed in a future version.\n",
      "Instructions for updating:\n",
      "Colocations handled automatically by placer.\n",
      "Loading data...\n",
      "shuffle is over...\n",
      "Model: \"model_1\"\n",
      "__________________________________________________________________________________________________\n",
      "Layer (type)                    Output Shape         Param #     Connected to                     \n",
      "==================================================================================================\n",
      "input_1 (InputLayer)            (None, 16384)        0                                            \n",
      "__________________________________________________________________________________________________\n",
      "lambda_1 (Lambda)               (None, 16384)        0           input_1[0][0]                    \n",
      "__________________________________________________________________________________________________\n",
      "dense_1 (Dense)                 (None, 1024)         16778240    lambda_1[0][0]                   \n",
      "__________________________________________________________________________________________________\n",
      "dropout_1 (Dropout)             (None, 1024)         0           dense_1[0][0]                    \n",
      "__________________________________________________________________________________________________\n",
      "highway_1 (Highway)             (None, 1024)         2099200     dropout_1[0][0]                  \n",
      "__________________________________________________________________________________________________\n",
      "highway_2 (Highway)             (None, 1024)         2099200     highway_1[0][0]                  \n",
      "__________________________________________________________________________________________________\n",
      "highway_3 (Highway)             (None, 1024)         2099200     highway_2[0][0]                  \n",
      "__________________________________________________________________________________________________\n",
      "highway_4 (Highway)             (None, 1024)         2099200     highway_3[0][0]                  \n",
      "__________________________________________________________________________________________________\n",
      "input_2 (InputLayer)            (None, 2048)         0                                            \n",
      "__________________________________________________________________________________________________\n",
      "highway_5 (Highway)             (None, 1024)         2099200     highway_4[0][0]                  \n",
      "__________________________________________________________________________________________________\n",
      "dense_12 (Dense)                (None, 1024)         2098176     input_2[0][0]                    \n",
      "__________________________________________________________________________________________________\n",
      "lambda_7 (Lambda)               (None, 1)            0           highway_5[0][0]                  \n",
      "                                                                 dense_12[0][0]                   \n",
      "==================================================================================================\n",
      "Total params: 29,372,416\n",
      "Trainable params: 29,372,416\n",
      "Non-trainable params: 0\n",
      "__________________________________________________________________________________________________\n",
      "None\n",
      "WARNING:tensorflow:From C:\\Users\\i0947\\AppData\\Local\\Continuum\\anaconda3\\lib\\site-packages\\tensorflow\\python\\ops\\math_ops.py:3066: to_int32 (from tensorflow.python.ops.math_ops) is deprecated and will be removed in a future version.\n",
      "Instructions for updating:\n",
      "Use tf.cast instead.\n",
      "Rollout took: 162.77911257743835\n"
     ]
    }
   ],
   "source": [
    "from inscopefilter3_eval import*\n",
    "if __name__ == '__main__':\n",
    "                #設定訓練參數和訓練模型存放路徑\n",
    "    s=time()\n",
    "    #batch_size = 3\n",
    "    batch_size = 512\n",
    "    #num_classes = 6\n",
    "    #epochs = 2000\n",
    "    epochs = 100\n",
    "    seed=0\n",
    "    #validation spilt\n",
    "    spilt=0.1\n",
    "    #for variance threshold\n",
    "    #fp_dim=1e6\n",
    "    fp_dim=16384\n",
    "    recfp_dim=2048\n",
    "    model_name = 'trained_model_inscope_'+str(seed)\n",
    "    save_dir = os.path.join(os.getcwd(), 'saved_models')\n",
    "\n",
    "\n",
    "\n",
    "\n",
    "    print('Loading data...')\n",
    "    tem_simp = set()\n",
    "    prods = []\n",
    "    reacs = []\n",
    "    labels = []\n",
    "    '''\n",
    "    with open('data/inscopedata.dat', 'r') as f:\n",
    "        for l in tqdm(f, desc='inscopedata'):\n",
    "            tem_simp.add(l.strip())\n",
    "\n",
    "    with open('data/inscopedata2.dat', 'r') as f:\n",
    "        for l in tqdm(f, desc='inscopedata'):\n",
    "            tem_simp.add(l.strip()) \n",
    "    #print('check data:', tem_simp)\n",
    "\n",
    "    with open('data/inscopedata4.dat', 'r') as f:\n",
    "        for l in tqdm(f, desc='inscopedata'):\n",
    "            tem_simp.add(l.strip()) \n",
    "        \n",
    "    for item in tem_simp:\n",
    "        prod,reac,label = item.split('\\t')\n",
    "        prods.append(prod)\n",
    "        reacs.append(reac)\n",
    "        labels.append(int(label))\n",
    "    #print('check samples:', labels[1000000:1000010])\n",
    "    print('total samples:', len(tem_simp))    \n",
    "    # Shuffle\n",
    "    xyz = list(zip(prods, reacs, labels))\n",
    "    xyz.sort()\n",
    "    random.seed(seed)\n",
    "    random.shuffle(xyz)\n",
    "    \n",
    "    prods, reacs, labels = zip(*xyz)\n",
    "    '''\n",
    "    '''\n",
    "    with open('data/inscopedatatest.dat', 'r') as f:\n",
    "        for l in tqdm(f, desc='inscopedata'):\n",
    "            tem_simp.add(l.strip()) \n",
    "        \n",
    "    for item in tem_simp:\n",
    "        prod,reac,label = item.split('\\t')\n",
    "        prods.append(prod)\n",
    "        reacs.append(reac)\n",
    "        labels.append(int(label))\n",
    "        \n",
    "    data_spilt= round(len(prods)*(1-spilt))\n",
    "    x_train = prods[:data_spilt]\n",
    "    x_test = prods[data_spilt:]\n",
    "    y_train = reacs[:data_spilt]\n",
    "    y_test = reacs[data_spilt:]\n",
    "    z_train = labels[:data_spilt]\n",
    "    z_test = labels[data_spilt:]\n",
    "    '''\n",
    "    #print('traindata:',x_train[:2],y_train[:2],z_train[:2])\n",
    "    #print('testdata:',x_test[:2],y_test[:2],z_test[:2])\n",
    "    \n",
    "    with open('data/x_train.pickle', 'rb') as f:\n",
    "        x_train = pickle.load(f)\n",
    "    with open('data/x_test0.pickle', 'rb') as f:\n",
    "        x_test = pickle.load(f)\n",
    "    with open('data/y_train.pickle', 'rb') as f:\n",
    "        y_train = pickle.load(f)\n",
    "    with open('data/y_test0.pickle', 'rb') as f:\n",
    "        y_test = pickle.load(f)\n",
    "    with open('data/z_train.pickle', 'rb') as f:\n",
    "        z_train = pickle.load(f)\n",
    "    #with open('data/z_train0-smaM0.pickle', 'rb') as f:\n",
    "    #    z_test = pickle.load(f) \n",
    "    with open('data/z_test0.pickle', 'rb') as f:\n",
    "        z_test = pickle.load(f)   \n",
    "\n",
    "    \n",
    "    print('shuffle is over...')\n",
    "\n",
    "    #build model\n",
    "    visible = Input(shape=(fp_dim,))\n",
    "    hidden = Lambda(lambda x: tf.math.log(x+1))(visible)\n",
    "    hidden = Dense(1024, activation='elu')(hidden)\n",
    "    hidden = Dropout(0.3)(hidden)\n",
    "\n",
    "    # only for expansion rule policynet\n",
    "    for _ in range(5):\n",
    "        hidden = Highway()(hidden)\n",
    "    #    hidden = Dropout(0.4)(hidden)\n",
    "    #another branch\n",
    "    #visible1 = Input(shape=(fp_dim,))\n",
    "    visible2 = Input(shape=(recfp_dim,))\n",
    "    #hidden1 = Lambda(fold)([visible, visible2])\n",
    "    hidden1 = Dense(1024, activation='elu')(visible2)\n",
    "\n",
    "    output = Lambda(cosine)([hidden, hidden1])\n",
    "    #,output_shape=(1,)\n",
    "    \n",
    "    model = Model(inputs=[visible,visible2], outputs=output)\n",
    "    # summarize layers\n",
    "    print(model.summary())\n",
    "    # plot graph\n",
    "    #plot_model(model, to_file='expansionpolicynet_graph.png')\n",
    "    # 初始化Adam optimizer\n",
    "    opt = keras.optimizers.Adam(lr=0.0001)\n",
    "\n",
    "    # 設定訓練方式，包含loss、optimizer..)\n",
    "    loss1=losses.binary_crossentropy\n",
    "    model.compile(loss='binary_crossentropy',\n",
    "                  optimizer=opt,\n",
    "                  metrics=[metrics.binary_accuracy, ACCR, auc1, TPR, FPR])\n",
    "    #metrics.binary_accuracy, ACCR, auc2, auc1, TPR, FPR\n",
    "    # early stop存放模型設置\n",
    "\n",
    "\n",
    "    if not os.path.isdir(save_dir):\n",
    "        os.makedirs(save_dir)\n",
    "    model_path = os.path.join(save_dir, model_name)\n",
    "    checkpoint = ModelCheckpoint(model_path, monitor='val_ACCR', save_best_only=True, verbose=1, mode='max')\n",
    "\n",
    "    # early stop參數設定\n",
    "    earlystop = EarlyStopping(monitor='val_ACCR', patience=6, verbose=1, mode='max')\n",
    "\n",
    "    #continue training\n",
    "\n",
    "    #K.clear_session()\n",
    "    #gc.collect()\n",
    "    del model  # 删掉存在的模型\n",
    "\n",
    "    #返回一个编译好的模型\n",
    "    #与删掉的模型相同\n",
    "    model = load_model(model_path, custom_objects={'ACCR': ACCR,'auc2': auc2,'auc1': auc1,'TPR': TPR, 'FPR': FPR,'Highway': Highway,'fold': fold,'cosine': cosine, 'tf': tf, 'loss1': loss1})\n",
    "    \n",
    "    model.compile(loss='binary_crossentropy',\n",
    "                  optimizer=opt,\n",
    "                  metrics=[metrics.binary_accuracy, ACCR, auc1, TPR, FPR, loss1])\n",
    "    #metrics.binary_accuracy, ACCR, auc2, auc1, TPR, FPR\n",
    "    # 開始訓練\n",
    "    x_test1= x_test[:]\n",
    "    y_test1= y_test[:]\n",
    "    z_test1= z_test[:]\n",
    "    \n",
    "    training_generator = DataGenerator(X=x_train, y=y_train, z=z_train, batch_size=batch_size, shuffle=True, fp_dim=fp_dim, recfp_dim=recfp_dim)\n",
    "    validation_gen = DataGenerator(X=x_test1, y=y_test1, z=z_test1, batch_size=batch_size, shuffle=True, fp_dim=fp_dim, recfp_dim=recfp_dim)    \n",
    "\n",
    "    model_history = model.evaluate_generator( \n",
    "                    generator=validation_gen,\n",
    "                    \n",
    "                    \n",
    "                    \n",
    "                    verbose=0,\n",
    "                    \n",
    "                    workers=8, \n",
    "                    use_multiprocessing=1, \n",
    "\n",
    "#                    max_queue_size = 12, \n",
    "\n",
    "                    )\n",
    "    print('Rollout took:', time() - s)"
   ]
  },
  {
   "cell_type": "code",
   "execution_count": 2,
   "metadata": {},
   "outputs": [
    {
     "data": {
      "text/plain": [
       "[0.6983139514923096,\n",
       " 0.7602792382240295,\n",
       " 0.8617534041404724,\n",
       " 0.9276516437530518,\n",
       " 0.9784990549087524,\n",
       " 0.3716548979282379,\n",
       " 0.6606940031051636]"
      ]
     },
     "execution_count": 2,
     "metadata": {},
     "output_type": "execute_result"
    }
   ],
   "source": [
    "model_history \n"
   ]
  },
  {
   "cell_type": "code",
   "execution_count": 3,
   "metadata": {},
   "outputs": [
    {
     "data": {
      "text/plain": [
       "['loss',\n",
       " 'binary_accuracy',\n",
       " 'ACCR',\n",
       " 'auc1',\n",
       " 'TPR',\n",
       " 'FPR',\n",
       " 'binary_crossentropy']"
      ]
     },
     "execution_count": 3,
     "metadata": {},
     "output_type": "execute_result"
    }
   ],
   "source": [
    "model.metrics_names\n"
   ]
  },
  {
   "cell_type": "code",
   "execution_count": 5,
   "metadata": {},
   "outputs": [
    {
     "data": {
      "text/plain": [
       "[0.04164240509271622,\n",
       " 0.9811465740203857,\n",
       " 0.9436202049255371,\n",
       " 0.9949966669082642,\n",
       " 0.9922098517417908,\n",
       " 0.07911659777164459,\n",
       " 0.06194719299674034]"
      ]
     },
     "execution_count": 5,
     "metadata": {},
     "output_type": "execute_result"
    }
   ],
   "source": [
    "test1=model_history \n",
    "model_history "
   ]
  },
  {
   "cell_type": "code",
   "execution_count": 4,
   "metadata": {},
   "outputs": [
    {
     "data": {
      "text/plain": [
       "[0.1387280523777008,\n",
       " 0.9583728313446045,\n",
       " 0.9748637080192566,\n",
       " 0.979328989982605,\n",
       " 0.9072006344795227,\n",
       " 0.039099305868148804,\n",
       " 0.12616582214832306]"
      ]
     },
     "execution_count": 4,
     "metadata": {},
     "output_type": "execute_result"
    }
   ],
   "source": [
    "test2=model_history\n",
    "#test3=[(a+b)/2 for a,b in zip(test1,test2)]\n",
    "model_history "
   ]
  },
  {
   "cell_type": "code",
   "execution_count": 6,
   "metadata": {},
   "outputs": [
    {
     "data": {
      "text/plain": [
       "(1.0,\n",
       " 1.0,\n",
       " 1.0,\n",
       " 0.0,\n",
       " 1.0,\n",
       " 1.0,\n",
       " 0.0,\n",
       " 1.0,\n",
       " 1.0,\n",
       " 1.0,\n",
       " 1.0,\n",
       " 1.0,\n",
       " 1.0,\n",
       " 1.0,\n",
       " 1.0,\n",
       " 0.0,\n",
       " 0.0,\n",
       " 1.0,\n",
       " 1.0,\n",
       " 1.0)"
      ]
     },
     "execution_count": 6,
     "metadata": {},
     "output_type": "execute_result"
    }
   ],
   "source": [
    "z_test[:20]"
   ]
  },
  {
   "cell_type": "code",
   "execution_count": 9,
   "metadata": {},
   "outputs": [
    {
     "data": {
      "text/plain": [
       "[0.1459132879972458,\n",
       " 0.9658203125,\n",
       " 0.974609375,\n",
       " 0.9793407917022705,\n",
       " 0.9671593904495239,\n",
       " 0.8953201770782471,\n",
       " 0.033569060266017914,\n",
       " 0.14063453674316406]"
      ]
     },
     "execution_count": 9,
     "metadata": {},
     "output_type": "execute_result"
    }
   ],
   "source": [
    "model_history "
   ]
  },
  {
   "cell_type": "code",
   "execution_count": 5,
   "metadata": {},
   "outputs": [
    {
     "name": "stdout",
     "output_type": "stream",
     "text": [
      "[0.08207101374864578, 0.9658203125, 0.9814453125, 0.9840490818023682, 0.6847290992736816, 0.005113622173666954]\n"
     ]
    }
   ],
   "source": [
    "print(model_history)"
   ]
  },
  {
   "cell_type": "code",
   "execution_count": null,
   "metadata": {},
   "outputs": [],
   "source": []
  }
 ],
 "metadata": {
  "kernelspec": {
   "display_name": "Python 3",
   "language": "python",
   "name": "python3"
  },
  "language_info": {
   "codemirror_mode": {
    "name": "ipython",
    "version": 3
   },
   "file_extension": ".py",
   "mimetype": "text/x-python",
   "name": "python",
   "nbconvert_exporter": "python",
   "pygments_lexer": "ipython3",
   "version": "3.7.3"
  }
 },
 "nbformat": 4,
 "nbformat_minor": 4
}
